{
 "cells": [
  {
   "cell_type": "code",
   "execution_count": 248,
   "metadata": {},
   "outputs": [],
   "source": [
    "import numpy as np\n",
    "import pylab"
   ]
  },
  {
   "cell_type": "code",
   "execution_count": 249,
   "metadata": {},
   "outputs": [
    {
     "data": {
      "text/plain": [
       "[<matplotlib.lines.Line2D at 0x222e83a18d0>]"
      ]
     },
     "execution_count": 249,
     "metadata": {},
     "output_type": "execute_result"
    },
    {
     "data": {
      "image/png": "[encoded data removed]",
      "text/plain": [
       "<Figure size 432x288 with 1 Axes>"
      ]
     },
     "metadata": {},
     "output_type": "display_data"
    }
   ],
   "source": [
    "def hhh(h):\n",
    "    return 140*h-48*h**2+4*h**3\n",
    "\n",
    "x_data = np.linspace(-5, 5, 1000)\n",
    "y_data =  hhh(x_data)\n",
    "pylab.plot(x_data, y_data,'.')"
   ]
  },
  {
   "cell_type": "code",
   "execution_count": 250,
   "metadata": {},
   "outputs": [],
   "source": [
    "h = tf.Variable(tf.random_uniform([1], -5, 5))\n",
    "VVV = 1000000-hhh(h)"
   ]
  },
  {
   "cell_type": "code",
   "execution_count": 251,
   "metadata": {
    "scrolled": true
   },
   "outputs": [],
   "source": [
    "loss = VVV  # Create an operation that calculates loss.\n",
    "optimizer = tf.train.GradientDescentOptimizer(0.001)  # Create an optimizer.\n",
    "train = optimizer.minimize(loss)  # Create an operation that minimizes loss.\n",
    "init = tf.initialize_all_variables()  # Create an operation initializes all the variables."
   ]
  },
  {
   "cell_type": "code",
   "execution_count": 252,
   "metadata": {},
   "outputs": [],
   "source": [
    "sess = tf.Session()\n",
    "sess.run(init)"
   ]
  },
  {
   "cell_type": "code",
   "execution_count": 253,
   "metadata": {},
   "outputs": [
    {
     "name": "stdout",
     "output_type": "stream",
     "text": [
      "[array([1.8746272], dtype=float32)]\n",
      "[array([1.8768338], dtype=float32)]\n",
      "[array([1.8789278], dtype=float32)]\n",
      "[array([1.8809152], dtype=float32)]\n",
      "[array([1.8828014], dtype=float32)]\n",
      "[array([1.8845918], dtype=float32)]\n",
      "[array([1.8862913], dtype=float32)]\n",
      "[array([1.8879044], dtype=float32)]\n",
      "[array([1.8894358], dtype=float32)]\n",
      "[array([1.8908895], dtype=float32)]\n",
      "[array([1.8922697], dtype=float32)]\n",
      "[array([1.8935801], dtype=float32)]\n",
      "[array([1.8948241], dtype=float32)]\n",
      "[array([1.8960053], dtype=float32)]\n",
      "[array([1.8971268], dtype=float32)]\n",
      "[array([1.8981917], dtype=float32)]\n",
      "[array([1.8992028], dtype=float32)]\n",
      "[array([1.900163], dtype=float32)]\n",
      "[array([1.9010749], dtype=float32)]\n",
      "[array([1.9019407], dtype=float32)]\n",
      "[array([1.9027629], dtype=float32)]\n",
      "[array([1.9035437], dtype=float32)]\n",
      "[array([1.9042853], dtype=float32)]\n",
      "[array([1.9049896], dtype=float32)]\n",
      "[array([1.9056584], dtype=float32)]\n",
      "[array([1.9062935], dtype=float32)]\n",
      "[array([1.9068968], dtype=float32)]\n",
      "[array([1.9074697], dtype=float32)]\n",
      "[array([1.9080139], dtype=float32)]\n",
      "[array([1.9085308], dtype=float32)]\n"
     ]
    }
   ],
   "source": [
    "for step in range(30):\n",
    "    sess.run(train)\n",
    "    print(sess.run([h]))"
   ]
  }
 ],
 "metadata": {
  "kernelspec": {
   "display_name": "Python 3",
   "language": "python",
   "name": "python3"
  },
  "language_info": {
   "codemirror_mode": {
    "name": "ipython",
    "version": 3
   },
   "file_extension": ".py",
   "mimetype": "text/x-python",
   "name": "python",
   "nbconvert_exporter": "python",
   "pygments_lexer": "ipython3",
   "version": "3.5.5"
  }
 },
 "nbformat": 4,
 "nbformat_minor": 2
}
