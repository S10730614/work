{
  "nbformat": 4,
  "nbformat_minor": 0,
  "metadata": {
    "colab": {
      "name": "題目.ipynb",
      "version": "0.3.2",
      "provenance": []
    },
    "kernelspec": {
      "name": "python3",
      "display_name": "Python 3"
    },
    "accelerator": "GPU"
  },
  "cells": [
    {
      "metadata": {
        "id": "Ngql0eSvueNH",
        "colab_type": "text"
      },
      "cell_type": "markdown",
      "source": [
        "Let’s let the height of the box be  $h$ . So, the width/length of the corners being cut out is also \n",
        "h and so the vertical side will have a “new” height of \n",
        "$10−2h$  and the horizontal side will have a “new” width of $14−2h$.\n",
        "\n",
        "Here is a sketch with all this information put in,\n",
        "\n",
        "![替代文字](http://tutorial.math.lamar.edu/Classes/CalcI/Optimization_Files/image007.png)\n",
        "\n",
        "\n",
        "\n",
        "In this example, for the first time, we’ve run into a problem where the constraint doesn’t really have an equation. The constraint is simply the size of the piece of cardboard and has already been factored into the figure above. This will happen on occasion and so don’t get excited about it when it does. This just means that we have one less equation to worry about. In this case we want to maximize the volume. Here is the volume, in terms of \n",
        "h and its first derivative.\n",
        "\n",
        "$$V\\left (  h\\right )= h\\left ( 14-2h \\right )\\left ( 10-2 \\right )= 140h-48h^{2}+4h^{3}$$\n",
        "\n",
        "$$V{(h)}' = 140-96h+12h^{3}$$\n",
        "Setting the first derivative equal to zero and solving gives the following two critical points,\n",
        "\n",
        "$$h=\\frac{12\\pm \\sqrt[]{39}}{3} = 1.9183，6.0817$$\n",
        "\n",
        "We now have an apparent problem. We have two critical points and we’ll need to determine which one is the value we need. The fact that we have two critical points means that neither the first derivative test or the second derivative test can be used here as they both require a single critical point. This isn’t a real problem however. Go back to the figure at the start of the solution and notice that we can quite easily find limits on \n",
        "$h$\n",
        ". The smallest \n",
        "$h$\n",
        " can be is \n",
        "$h$\n",
        "$=$\n",
        "$0$\n",
        " even though this doesn’t make much sense as we won’t get a box in this case. Also, from the 10 inch side we can see that the largest \n",
        "$h$\n",
        " can be is  $h=5$although again, this doesn’t make much sense physically.\n",
        "\n",
        "So, knowing that whatever h  is it must be in the range \n",
        " \n",
        "$0≤h≤5$\n",
        "\n",
        "we can see that the second critical point is outside this range and so the only critical point that we need to worry about is 1.9183.\n",
        "\n",
        "Finally, since the volume is defined and continuous on \n",
        "\n",
        "$0≤h≤5$\n",
        "\n",
        " all we need to do is plug in the critical points and endpoints into the volume to determine which gives the largest volume. Here are those function evaluations.\n",
        "\n",
        "$$V(0)=0 $$ $$V(1.9183)=120.1644$$         $$V(5)=0$$\n",
        "\n",
        "So, if we take $h=1.9183$ we get a maximum volume."
      ]
    },
    {
      "metadata": {
        "id": "CeyO1NyO5AFd",
        "colab_type": "text"
      },
      "cell_type": "markdown",
      "source": [
        ""
      ]
    },
    {
      "metadata": {
        "id": "55yiV4cz4U5W",
        "colab_type": "text"
      },
      "cell_type": "markdown",
      "source": [
        ""
      ]
    }
  ]
}