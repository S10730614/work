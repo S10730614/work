{
  "nbformat": 4,
  "nbformat_minor": 0,
  "metadata": {
    "colab": {
      "name": "linear equations.ipynb",
      "version": "0.3.2",
      "provenance": []
    },
    "kernelspec": {
      "name": "python3",
      "display_name": "Python 3"
    },
    "accelerator": "GPU"
  },
  "cells": [
    {
      "metadata": {
        "id": "coRFGfoxJuaN",
        "colab_type": "code",
        "colab": {}
      },
      "cell_type": "code",
      "source": [
        "import numpy as np\n",
        "from numpy.linalg import inv"
      ],
      "execution_count": 0,
      "outputs": []
    },
    {
      "metadata": {
        "id": "Oryu-dBZOM-c",
        "colab_type": "code",
        "colab": {
          "base_uri": "https://localhost:8080/",
          "height": 119
        },
        "outputId": "88e51c75-0c39-415d-a4b2-d4755583226f"
      },
      "cell_type": "code",
      "source": [
        "a=np.array([[3, 2,-1], [2, -2,4],[-1, 0.5,-1]])\n",
        "print(a)\n",
        "b=np.array([[1],[-2],[0]])\n",
        "print(b)"
      ],
      "execution_count": 75,
      "outputs": [
        {
          "output_type": "stream",
          "text": [
            "[[ 3.   2.  -1. ]\n",
            " [ 2.  -2.   4. ]\n",
            " [-1.   0.5 -1. ]]\n",
            "[[ 1]\n",
            " [-2]\n",
            " [ 0]]\n"
          ],
          "name": "stdout"
        }
      ]
    },
    {
      "metadata": {
        "id": "FoTzLeF2KLjx",
        "colab_type": "code",
        "colab": {
          "base_uri": "https://localhost:8080/",
          "height": 34
        },
        "outputId": "3dd8263a-c3be-43f8-b2e6-fd13da24e623"
      },
      "cell_type": "code",
      "source": [
        "ainv = np.linalg.inv(a) \n",
        "np.allclose(np.dot(a, ainv), np.eye(3))"
      ],
      "execution_count": 76,
      "outputs": [
        {
          "output_type": "execute_result",
          "data": {
            "text/plain": [
              "True"
            ]
          },
          "metadata": {
            "tags": []
          },
          "execution_count": 76
        }
      ]
    },
    {
      "metadata": {
        "id": "veSRCmKyRN4I",
        "colab_type": "code",
        "colab": {
          "base_uri": "https://localhost:8080/",
          "height": 68
        },
        "outputId": "1ea07e06-358d-4629-d7c3-6fdafc95f07b"
      },
      "cell_type": "code",
      "source": [
        "ainv = inv(np.matrix(a))\n",
        "ainv\n",
        "\n",
        "r=np.dot(ainv,b)\n",
        "print(r)"
      ],
      "execution_count": 77,
      "outputs": [
        {
          "output_type": "stream",
          "text": [
            "[[ 1.]\n",
            " [-2.]\n",
            " [-2.]]\n"
          ],
          "name": "stdout"
        }
      ]
    }
  ]
}